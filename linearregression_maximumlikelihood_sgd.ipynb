{
 "cells": [
  {
   "cell_type": "code",
   "execution_count": 1,
   "metadata": {},
   "outputs": [
    {
     "name": "stdout",
     "output_type": "stream",
     "text": [
      "\n"
     ]
    }
   ],
   "source": [
    "%matplotlib inline\n",
    "import matplotlib.pyplot as plt\n",
    "import numpy as np\n",
    "import scipy as sp\n",
    "import scipy.stats as st\n",
    "import scipy.linalg as la\n",
    "from math import sqrt\n",
    "import pandas as pd\n",
    "from pandas import DataFrame\n",
    "import re\n",
    "import numpy.linalg as la\n",
   ]
  },
  {
   "cell_type": "markdown",
   "metadata": {},
   "source": [
    "# Linear Regression\n",
    "In this lab we will apply linear regression to real and synthetic data and study Stochastic Gradient Descent.\n",
    "\n",
    "If you are not familiar with matrix operations, review [this page](https://www.ibm.com/developerworks/community/blogs/jfp/entry/Elementary_Matrix_Operations_In_Python?lang=en)  befor you start. \n",
    "\n",
    "Also, for matrix inversion, we will use [`numpy.linalg`](https://docs.scipy.org/doc/numpy/reference/routines.linalg.html), which we imported with  \n",
    "``` python\n",
    "import numpy.linalg as la\n",
    "```\n",
    "In particular, you will find [`numpy.linalg.inv`](https://docs.scipy.org/doc/numpy/reference/generated/numpy.linalg.inv.html#numpy.linalg.inv) useful."
   ]
  },
  {
   "cell_type": "markdown",
   "metadata": {},
   "source": [
    "## Estimating Box Office Gross\n",
    "We will use opening weekend gross to estimate total gross based on data for 2017 (until mid september). First, we will use `pandas` to read a csv file in to an object called a dataframe. (`pandas` can do a lot of things, but here we only use it to read from a file.) \n",
    "We use panda as:\n",
    "```\n",
    "df = pd.read_csv('BoxOffice2017.csv')\n",
    "```\n",
    "But it can also take other arguments. For example, if the names of the columns are not given in the file, we can use `names=[...]` or we can set the delimiter to be any whitespace instead of just comma with `delim_whitespace=True`, as shown below:\n",
    "```\n",
    "df = pd.DataFrame(raw_data, names = ['first_name', 'last_name', 'age', 'education','income'], delim_whitespace=True)\n",
    "```\n",
    "We then print the first few rows to check that everything has loaded properly, and check the data type for each column."
   ]
  },
  {
   "cell_type": "code",
   "execution_count": 2,
   "metadata": {},
   "outputs": [
    {
     "data": {
      "text/html": [
       "<div>\n",
       "<style scoped>\n",
       "    .dataframe tbody tr th:only-of-type {\n",
       "        vertical-align: middle;\n",
       "    }\n",
       "\n",
       "    .dataframe tbody tr th {\n",
       "        vertical-align: top;\n",
       "    }\n",
       "\n",
       "    .dataframe thead th {\n",
       "        text-align: right;\n",
       "    }\n",
       "</style>\n",
       "<table border=\"1\" class=\"dataframe\">\n",
       "  <thead>\n",
       "    <tr style=\"text-align: right;\">\n",
       "      <th></th>\n",
       "      <th>Rank</th>\n",
       "      <th>MovieTitle</th>\n",
       "      <th>Studio</th>\n",
       "      <th>TotalGross</th>\n",
       "      <th>Theaters</th>\n",
       "      <th>OpeningGross</th>\n",
       "      <th>OpeningTheaters</th>\n",
       "      <th>OpenDate</th>\n",
       "    </tr>\n",
       "  </thead>\n",
       "  <tbody>\n",
       "    <tr>\n",
       "      <th>0</th>\n",
       "      <td>1</td>\n",
       "      <td>Beauty and the Beast (2017)</td>\n",
       "      <td>BV</td>\n",
       "      <td>$504,014,165</td>\n",
       "      <td>4210</td>\n",
       "      <td>$174,750,616</td>\n",
       "      <td>4210</td>\n",
       "      <td>14-Apr</td>\n",
       "    </tr>\n",
       "    <tr>\n",
       "      <th>1</th>\n",
       "      <td>2</td>\n",
       "      <td>Wonder Woman</td>\n",
       "      <td>WB</td>\n",
       "      <td>$411,600,007</td>\n",
       "      <td>4165</td>\n",
       "      <td>$103,251,471</td>\n",
       "      <td>4165</td>\n",
       "      <td>23-Jun</td>\n",
       "    </tr>\n",
       "    <tr>\n",
       "      <th>2</th>\n",
       "      <td>3</td>\n",
       "      <td>Guardians of the Galaxy Vol. 2</td>\n",
       "      <td>BV</td>\n",
       "      <td>$389,810,502</td>\n",
       "      <td>4347</td>\n",
       "      <td>$146,510,104</td>\n",
       "      <td>4347</td>\n",
       "      <td>9-Jun</td>\n",
       "    </tr>\n",
       "    <tr>\n",
       "      <th>3</th>\n",
       "      <td>4</td>\n",
       "      <td>Spider-Man: Homecoming</td>\n",
       "      <td>Sony</td>\n",
       "      <td>$330,644,416</td>\n",
       "      <td>4348</td>\n",
       "      <td>$117,027,503</td>\n",
       "      <td>4348</td>\n",
       "      <td>14-Apr</td>\n",
       "    </tr>\n",
       "    <tr>\n",
       "      <th>4</th>\n",
       "      <td>5</td>\n",
       "      <td>Despicable Me 3</td>\n",
       "      <td>Uni.</td>\n",
       "      <td>$261,242,325</td>\n",
       "      <td>4535</td>\n",
       "      <td>$72,434,025</td>\n",
       "      <td>4529</td>\n",
       "      <td>3-Mar</td>\n",
       "    </tr>\n",
       "  </tbody>\n",
       "</table>\n",
       "</div>"
      ],
      "text/plain": [
       "   Rank                      MovieTitle Studio     TotalGross  Theaters  \\\n",
       "0     1     Beauty and the Beast (2017)     BV  $504,014,165       4210   \n",
       "1     2                    Wonder Woman     WB  $411,600,007       4165   \n",
       "2     3  Guardians of the Galaxy Vol. 2     BV  $389,810,502       4347   \n",
       "3     4          Spider-Man: Homecoming   Sony  $330,644,416       4348   \n",
       "4     5                 Despicable Me 3   Uni.  $261,242,325       4535   \n",
       "\n",
       "    OpeningGross  OpeningTheaters OpenDate  \n",
       "0  $174,750,616              4210   14-Apr  \n",
       "1  $103,251,471              4165   23-Jun  \n",
       "2  $146,510,104              4347    9-Jun  \n",
       "3  $117,027,503              4348   14-Apr  \n",
       "4   $72,434,025              4529    3-Mar  "
      ]
     },
     "execution_count": 2,
     "metadata": {},
     "output_type": "execute_result"
    }
   ],
   "source": [
    "df = pd.read_csv('BoxOffice2017.csv')\n",
    "df.head() # The first few rows of the dataframe"
   ]
  },
  {
   "cell_type": "code",
   "execution_count": 3,
   "metadata": {},
   "outputs": [
    {
     "data": {
      "text/plain": [
       "Rank                int64\n",
       "MovieTitle         object\n",
       "Studio             object\n",
       "TotalGross         object\n",
       "Theaters            int64\n",
       "OpeningGross       object\n",
       "OpeningTheaters     int64\n",
       "OpenDate           object\n",
       "dtype: object"
      ]
     },
     "execution_count": 3,
     "metadata": {},
     "output_type": "execute_result"
    }
   ],
   "source": [
    "df.dtypes"
   ]
  },
  {
   "cell_type": "markdown",
   "metadata": {},
   "source": [
    "___\n",
    "Next we extract data from the dataframe. Our input variable is the Openning Gross and our output is Total Gross. The data needs some preprocessing."
   ]
  },
  {
   "cell_type": "code",
   "execution_count": 4,
   "metadata": {},
   "outputs": [],
   "source": [
    "Y = df[['TotalGross']].values # extract grosses\n",
    "# remove ',' and '$' and convert to float\n",
    "# Y is a two dimensional array, so we use a two for loops\n",
    "for i in range(np.shape(Y)[0]): \n",
    "    for j in range(np.shape(Y)[1]):\n",
    "        Y[i,j] = float(re.sub('[$,]','',Y[i,j])) \n",
    "Y = Y.astype(float)#(459, 1)\n",
    "\n",
    "\n",
    "X = df[['OpeningGross']].values # if we need multiple columns we can write, e.g., X = df[['OpeningGross','Theaters']].values\n",
    "# solution\n",
    "for i in range(np.shape(X)[0]): \n",
    "    for j in range(np.shape(X)[1]):\n",
    "        X[i,j] = float(re.sub('[$,]','',X[i,j])) \n",
    "X = X.astype(float)#(459, 1)"
   ]
  },
  {
   "cell_type": "markdown",
   "metadata": {
    "collapsed": true
   },
   "source": [
    "___\n",
    "1. Plot the input and output in a scatter plot.\n",
    "2. Find $\\theta^*$ minimizing the RMSE.\n",
    "3. Compute the RMSE.\n",
    "4. Plot the line $X\\theta^*$ on the same plot as the input-output data.\n"
   ]
  },
  {
   "cell_type": "code",
   "execution_count": 5,
   "metadata": {},
   "outputs": [
    {
     "name": "stdout",
     "output_type": "stream",
     "text": [
      "theta* = [[2.8141958]]\n",
      "RMSE = 11374370.777137922\n"
     ]
    },
    {
     "data": {
      "text/plain": [
       "[<matplotlib.lines.Line2D at 0x10d2a69e8>]"
      ]
     },
     "execution_count": 5,
     "metadata": {},
     "output_type": "execute_result"
    },
    {
     "data": {
      "image/png": "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\n",
      "text/plain": [
       "<Figure size 432x288 with 1 Axes>"
      ]
     },
     "metadata": {
      "needs_background": "light"
     },
     "output_type": "display_data"
    }
   ],
   "source": [
    "# solution\n",
    "X_transpose=X.transpose()\n",
    "theta = np.dot( np.dot(la.inv(np.dot(X_transpose, X)), X_transpose), Y)\n",
    "print(\"theta* = {}\".format(theta))\n",
    "RMSE = np.sqrt(np.mean((Y-np.dot(X, theta))**2))\n",
    "print(\"RMSE = {}\".format(RMSE))\n",
    "Y_hat = np.dot(X, theta)\n",
    "plt.plot(X, Y, '.')\n",
    "plt.plot(X, Y_hat)"
   ]
  },
  {
   "cell_type": "markdown",
   "metadata": {},
   "source": [
    "# Bayesian Regression ###\n",
    "Assume Gaussian likelihood $\\mathbf{y}| \\theta,\\sigma^2 \\sim \\mathcal{N}(X\\theta,\\sigma^2 I)$ and prior $p(\\theta,\\sigma^2) \\propto 1/\\sigma^2$. For a new input $x_{new}=10000000$, generate 1000 samples of $y_{new}$ and compute following quantities from these samples.\n",
    "\n",
    "1. sample mean of $y_{new}$.\n",
    "2. sample standard deviation of $y_{new}$.\n",
    "3. Prob$(y_{new}>3x_{new})$.\n",
    "\n",
    "Useful information:\n",
    "\n",
    "1. First produce samples for $\\sigma$ from $p(\\sigma|\\mathbf{y})$ and for $\\theta$ from $p(\\theta|\\mathbf{y},\\sigma^2)$, then perform prediction for input $x_{new}=10000000$ by sampling from $p(y_{new}|\\theta,\\sigma^2)$.\n",
    "\n",
    "2. $\\text{Scaled-Inv-}\\chi^2(\\nu,s^2)\\  \\equiv\\ \\text{Inv-Gamma}(\\frac{\\nu}2,\\frac{\\nu s^2}2)$"
   ]
  },
  {
   "cell_type": "code",
   "execution_count": 12,
   "metadata": {},
   "outputs": [
    {
     "name": "stdout",
     "output_type": "stream",
     "text": [
      "sample mean of y_new is 27502882.947653327\n",
      "sample standard deviation of y_new is 11735532.410534635\n",
      "probability of y_new>3x_new is 0.424\n"
     ]
    }
   ],
   "source": [
    "# solution\n",
    "sample_size = 1000\n",
    "n=Y.size\n",
    "m=1\n",
    "v= (n-m)/2\n",
    "vs_2= np.dot((Y-Y_hat).transpose(), (Y-Y_hat))/2\n",
    "\n",
    "# produce samples for sigma^2 from P(sigma^2 | y)\n",
    "sigma_samples = st.invgamma.rvs(v, scale=vs_2, size=sample_size)\n",
    "\n",
    "\n",
    "# produce samples from P(theta | y, sigma^2) = N(theta, la.inv(np.dot(X_transpose, X))*sigma^2)\n",
    "theta_samples = np.zeros(sigma_samples.shape)\n",
    "mean_theta=np.dot( np.dot(la.inv(np.dot(X_transpose, X)), X_transpose), Y)\n",
    "for i in range(sample_size):\n",
    "    condition_sigma2 = sigma_samples[i]*la.inv(np.dot(X_transpose, X))  \n",
    "    theta_samples[i]=st.norm.rvs(mean_theta, np.sqrt(condition_sigma2), size=1)\n",
    "\n",
    "# produce samples from P(y_new | thera, simge^2) = N(x_new * theta, la.inv(np.dot(X_transpose, X))*sigma^2)\n",
    "y_samples = np.zeros(sigma_samples.shape)\n",
    "x_new = 10000000\n",
    "for i in range(sample_size):\n",
    "    condition_theta = theta_samples[i]\n",
    "    condition_sigma2 = sigma_samples[i]\n",
    "    y_samples[i]=st.norm.rvs(x_new*condition_theta, np.sqrt(condition_sigma2), size=1)\n",
    "\n",
    "# probability of y_new>3x_new\n",
    "count=0.0\n",
    "for i in range(sample_size):\n",
    "    if y_samples[i]>3*x_new:\n",
    "        count +=1\n",
    "count=count/sample_size\n",
    "    \n",
    "ynew_mean = np.mean(y_samples)\n",
    "ynew_std = np.std(y_samples)\n",
    "print(\"sample mean of y_new is {}\".format(ynew_mean))\n",
    "print(\"sample standard deviation of y_new is {}\".format(ynew_std))\n",
    "print(\"probability of y_new>3x_new is {}\".format(count))"
   ]
  },
  {
   "cell_type": "markdown",
   "metadata": {},
   "source": [
    "## Maximum likelihood with synthetic data ##\n",
    "This time we will use synthetic data. The data will be multivariate normal and so minimizing RMSE is the same as maximum likelihood estimation.\n",
    "\n",
    "Generate a samples $\\left\\{(x_1,y_1),\\dotsc,(x_{100},y_{100})\\right\\}$ of size $100$, where $$x_i\\sim \\mathcal N (\\mu,K),$$ with mean $\\mu=[0,0]$ and covariance $$\n",
    "K=\\left[\\begin{array}{cc}\n",
    "10 & 5\\\\\n",
    "5 & 10\\\\\n",
    "\\end{array}\\right],$$ and \n",
    "$$\n",
    "y_i \\sim \\mathcal{N}(\\theta^T x_i,1)$$ with\n",
    "$$\n",
    "\\theta=\\left[\\begin{array}{c}\n",
    "3 \\\\\n",
    "-1\\\\\n",
    "\\end{array}\\right].$$\n",
    "\n",
    "Arrange these in two matrixes $X$ and $Y$ of sizes $100\\times2$ and $100\\times1$, respectively."
   ]
  },
  {
   "cell_type": "code",
   "execution_count": 58,
   "metadata": {},
   "outputs": [],
   "source": [
    "# solution\n",
    "mean=[0,0]\n",
    "K=[[10, 5],[5, 10]]\n",
    "data_num=100\n",
    "X=st.multivariate_normal.rvs(mean=[0,0], cov=K, size=data_num) # (100, 2)\n",
    "real_theta =np.array([3.0, -1.0])\n",
    "Y=np.zeros((data_num,1))\n",
    "for i in range(data_num):\n",
    "    Y[i,0]=st.norm.rvs( np.dot(X[i,:] , real_theta), 1, size=1)"
   ]
  },
  {
   "cell_type": "markdown",
   "metadata": {},
   "source": [
    "Find the maximum likelihood estimate $\\theta^*$ of $\\theta$, and compare with true value. Note that this is the same as the estimate that minimizes RMSE. Find the RMSE."
   ]
  },
  {
   "cell_type": "code",
   "execution_count": 59,
   "metadata": {},
   "outputs": [
    {
     "name": "stdout",
     "output_type": "stream",
     "text": [
      "theta* = [[ 2.99049313]\n",
      " [-1.05216285]]\n",
      "RMSE = 1.0240802979202428\n"
     ]
    }
   ],
   "source": [
    "# solution\n",
    "X_transpose=X.transpose()\n",
    "theta_ML = np.dot( np.dot(la.inv(np.dot(X_transpose, X)), X_transpose), Y)\n",
    "print(\"theta* = {}\".format(theta_ML))\n",
    "RMSE = np.sqrt(np.mean((Y-np.dot(X, theta_ML))**2))\n",
    "print(\"RMSE = {}\".format(RMSE))"
   ]
  },
  {
   "cell_type": "markdown",
   "metadata": {},
   "source": [
    "## Stochastic Gradient Descent for ML"
   ]
  },
  {
   "cell_type": "markdown",
   "metadata": {},
   "source": [
    "### Finding the root: The basic case\n",
    "Suppose that we want to solve the equation $$f(\\theta)=0,$$ which we know to have a unique solution $\\theta^*$ such that $f(\\theta)$ is increasing at this solution. One way to find this solution is to start with an arbitrary $\\theta_0$ and let \n",
    "$$\n",
    "\\theta_t = \\theta_{t-1} - a_t f(\\theta_{t-1}),\n",
    "$$\n",
    "where $a_i$ satisfies \n",
    "$$\\sum_{t=0}^\\infty a_t = \\infty,\\quad \\sum_{t=0}^\\infty a_t^2 < \\infty.$$\n",
    "For example, we may let $a_t=\\frac1t$. It can be shown that $\\theta_t$ converges to $\\theta^*$.\n",
    "\n",
    "___\n",
    "Consider the function $f(\\theta)=\\arctan \\theta -1$ and let $\\theta_0=0$. Use the method described above to find $\\theta^*$ such that $f(\\theta^*)=1$. Set the number of iterations to 1000. Plot the values of $\\theta_t$ and compare $\\theta_{1000}$ with $\\theta^*$. Let $a_t=\\frac1{t^{3/4}}$.\n",
    "\n",
    "Bonus: It is also interesting to see how the behavior changes with $a_t=\\frac1{t^r}$ for different values of $r$."
   ]
  },
  {
   "cell_type": "code",
   "execution_count": 48,
   "metadata": {
    "scrolled": true
   },
   "outputs": [
    {
     "name": "stdout",
     "output_type": "stream",
     "text": [
      "When r=3/4, theta_1000 = 1.5553754058578917\n",
      "When r=1/2, theta_1000 = 1.5574077185183506\n",
      "The smaller r is, the less iterations it needs to converge\n",
      "theta* = 1.5707963267948966\n"
     ]
    },
    {
     "data": {
      "image/png": "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\n",
      "text/plain": [
       "<Figure size 432x288 with 1 Axes>"
      ]
     },
     "metadata": {
      "needs_background": "light"
     },
     "output_type": "display_data"
    },
    {
     "data": {
      "image/png": "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\n",
      "text/plain": [
       "<Figure size 432x288 with 1 Axes>"
      ]
     },
     "metadata": {
      "needs_background": "light"
     },
     "output_type": "display_data"
    }
   ],
   "source": [
    "# solution:\n",
    "iteration=1000\n",
    "ts=np.linspace(0,iteration,iteration)\n",
    "theta=np.zeros(ts.shape)\n",
    "theta[0]=0\n",
    "\n",
    "theta_star=np.pi/2\n",
    "\n",
    "# f(theta)=arctan(theta)\n",
    "# goal:      f(theta)=1  \n",
    "#  <=>   goal:   f(theta) -1 = arctan(theta)-1 =  0\n",
    "def f(theta_t):\n",
    "    return np.arctan(theta_t)-1.0\n",
    "\n",
    "\n",
    "\n",
    "plt.title(\"r = 3/4\")\n",
    "r=3/4\n",
    "for t in range(iteration-1):\n",
    "    a_t = np.power(t+1, -r)\n",
    "    theta[t+1] = theta[t] - a_t * f(theta[t])\n",
    "plt.plot(ts,theta)\n",
    "plt.plot(ts,np.ones(ts.shape)*theta_star)\n",
    "print(\"When r=3/4, theta_1000 = {}\".format(theta[iteration-1]))\n",
    "\n",
    "plt.figure()\n",
    "plt.title(\"r = 1/2 \")\n",
    "r=1/2\n",
    "for t in range(iteration-1):\n",
    "    a_t = np.power(t+1, -r)\n",
    "    theta[t+1] = theta[t] - a_t * f(theta[t])\n",
    "plt.plot(ts,theta)\n",
    "plt.plot(ts,np.ones(ts.shape)*theta_star)\n",
    "print(\"When r=1/2, theta_1000 = {}\".format(theta[iteration-1]))\n",
    "\n",
    "print(\"The smaller r is, the less iterations it needs to converge\")\n",
    "\n",
    "print(\"theta* = {}\".format(theta_star))\n"
   ]
  },
  {
   "cell_type": "markdown",
   "metadata": {},
   "source": [
    "### Finding the root with noisy observations###\n",
    "Importantly, this method works even if we can't actually compute $f(\\theta)$ but instead can obtain $F(\\theta)$, which is a noisy version of $f(\\theta)$ such that\n",
    "$$\n",
    "f(\\theta)=E[F(\\theta)].\n",
    "$$\n",
    "The good news is that using the noisy version works too and we can let \n",
    "$$\n",
    "\\theta_t = \\theta_{t-1} - a_t F(\\theta_{t-1}),\n",
    "$$\n",
    "and again $\\theta_t$ converges to $\\theta^*$.\n",
    "___\n",
    "To see this in action, let $F(\\theta)=f(\\theta) + Z = \\arctan \\theta - 1 + Z$, where $Z\\sim \\mathcal N(0,1)$. Start with $\\theta_0=0$ and let\n",
    "$$\n",
    "\\theta_t = \\theta_{t-1} - a_t (f(\\theta_{t-1})+Z_t),\n",
    "$$\n",
    "where, for each $t$, $Z_t$ is a new sample from $\\mathcal N(0,1)$. Plot the values of $\\theta_t$ and compare $\\theta_{1000}$ with $\\theta^*$. Let $a_t=\\frac1{t^{3/4}}$.\n",
    "\n",
    "Bonus: It is also interesting to see how the behavior changes with $a_t=\\frac1{t^r}$ for different values of $r$."
   ]
  },
  {
   "cell_type": "code",
   "execution_count": 49,
   "metadata": {},
   "outputs": [
    {
     "name": "stdout",
     "output_type": "stream",
     "text": [
      "When r=3/4, theta_1000 = 1.5806600133861601\n",
      "When r=1/2, theta_1000 = 1.2649968182061704\n",
      "theta* = 1.5707963267948966\n"
     ]
    },
    {
     "data": {
      "image/png": "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\n",
      "text/plain": [
       "<Figure size 432x288 with 1 Axes>"
      ]
     },
     "metadata": {
      "needs_background": "light"
     },
     "output_type": "display_data"
    },
    {
     "data": {
      "image/png": "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\n",
      "text/plain": [
       "<Figure size 432x288 with 1 Axes>"
      ]
     },
     "metadata": {
      "needs_background": "light"
     },
     "output_type": "display_data"
    }
   ],
   "source": [
    "# solution:\n",
    "iteration=1000\n",
    "ts=np.linspace(0,iteration,iteration)\n",
    "theta=np.zeros(ts.shape)\n",
    "theta[0]=0\n",
    "\n",
    "# f(theta)=arctan(theta)\n",
    "# goal:      f(theta)=1  \n",
    "#  <=>   goal:   f(theta) -1 = arctan(theta)-1 =  0\n",
    "def f(theta_t):\n",
    "    return np.arctan(theta_t)-1.0\n",
    "\n",
    "\n",
    "\n",
    "plt.title(\"r = 3/4\")\n",
    "r=3/4\n",
    "for t in range(iteration-1):\n",
    "    a_t = np.power(t+1, -r)\n",
    "    z_t = st.norm.rvs(0,1)\n",
    "    theta[t+1] = theta[t] - a_t * (f(theta[t]) + z_t)\n",
    "plt.plot(ts,theta)\n",
    "plt.plot(ts,np.ones(ts.shape)*theta_star)\n",
    "print(\"When r=3/4, theta_1000 = {}\".format(theta[iteration-1]))\n",
    "\n",
    "\n",
    "plt.figure()\n",
    "plt.title(\"r = 1/2 \")\n",
    "r=1/2\n",
    "for t in range(iteration-1):\n",
    "    a_t = np.power(t+1, -r)\n",
    "    z_t = st.norm.rvs(0,1)\n",
    "    theta[t+1] = theta[t] - a_t * (f(theta[t]) + z_t)\n",
    "plt.plot(ts,theta)\n",
    "plt.plot(ts,np.ones(ts.shape)*theta_star)\n",
    "print(\"When r=1/2, theta_1000 = {}\".format(theta[iteration-1]))\n",
    "\n",
    "\n",
    "print(\"theta* = {}\".format(theta_star))"
   ]
  },
  {
   "cell_type": "markdown",
   "metadata": {},
   "source": [
    "### Stochastic Gradient Descent###\n",
    "Now consider two random variables $x$ and $y$ and suppose that we have $N$ samples: $\\{(x_1,y_1),(x_2,y_2),\\dotsc,(x_N,y_N)\\}$. Our goal is linear regression of $y$ with repect to $x$ as $y = \\theta^T x$. The gradient descent solution to this problem requires finding $\\theta$ such that \n",
    "$$\\nabla J(\\theta)=-\\sum_{i=1}^N(y_i-\\theta^T x_i)x_i=0.$$\n",
    "This can also be viewed as wanting to find the root of $f(\\theta)=-E[(y-\\theta^T x)x]$. But we don't know the distribution of $x$ and $y$. If we did, we could find the root by \n",
    "$$\n",
    "\\theta_t = \\theta_{t-1} - a_t f(\\theta_t),\n",
    "$$\n",
    "But based on the explanation above, we can instead find the root by\n",
    "$$\n",
    "\\theta_t = \\theta_{t-1} + a_t (y_i-\\theta_{t}^Tx_i)x_i,\n",
    "$$\n",
    "where $(x_i,y_i)$ is a random data point.\n",
    "\n",
    "In the context of linear regression, this method is refered to as _Least Mean Square_ or _LMS_ (which isn't a very good name). But the principle applies more generally and is refered to as _Stochastic Gradient Descent_, where _stochastic_ refers to the fact that we chose a random data point from our dataset in each step.\n",
    "___\n",
    "Set $\\theta_0=(0,0)$ and let\n",
    "$$\n",
    "\\theta_t=\\theta_{t-1} + \\frac{1}{(t+10)} (y_i-\\theta_t^Tx_i)x_i,\n",
    "$$\n",
    "for $t=1,\\dotsc,200$, where $i$ is a random index indicating which data point is used in this step. Use data generated in [Maximum likelihood with synthetic data](#Maximum-likelihood-with-synthetic-data). Note that $\\theta_t$ and $x_i$ are two-dimensional. Plot both elements of $\\theta_t$ and compare them with the ture values of [3,-1]."
   ]
  },
  {
   "cell_type": "code",
   "execution_count": 76,
   "metadata": {},
   "outputs": [
    {
     "name": "stdout",
     "output_type": "stream",
     "text": [
      "True value: [ 3. -1.]\n",
      "Estimates: [ 2.99806343 -1.073693  ]\n"
     ]
    },
    {
     "data": {
      "image/png": "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\n",
      "text/plain": [
       "<Figure size 432x288 with 1 Axes>"
      ]
     },
     "metadata": {
      "needs_background": "light"
     },
     "output_type": "display_data"
    }
   ],
   "source": [
    "# solution:\n",
    "iteration=200\n",
    "dim=2\n",
    "ts=np.linspace(0,iteration,iteration)\n",
    "thetas=np.zeros((iteration, dim))\n",
    "thetas[0, :]=[0,0]\n",
    "\n",
    "t=1\n",
    "while t<iteration:\n",
    "    a_t = 1/(t+10.0)\n",
    "    i=np.random.randint(0,data_num)\n",
    "    thetas[t, :] = thetas[t-1, :] + a_t * (Y[i]-np.dot(thetas[t-1, :].transpose(), X[i,:]))*X[i,:]\n",
    "    t += 1\n",
    "\n",
    "    \n",
    "plt.plot(ts,thetas[:,0],'r')\n",
    "plt.plot(ts,thetas[:,1],'g')\n",
    "# plt.plot(ts,np.ones(ts.shape)*real_theta[0],'y')\n",
    "# plt.plot(ts,np.ones(ts.shape)*real_theta[1],'b')\n",
    "print(\"True value: {}\".format(real_theta))\n",
    "print(\"Estimates: {}\".format(thetas[iteration-1, :]))\n",
    "\n",
    "\n",
    "\n"
   ]
  },
  {
   "cell_type": "code",
   "execution_count": null,
   "metadata": {},
   "outputs": [],
   "source": []
  },
  {
   "cell_type": "code",
   "execution_count": null,
   "metadata": {},
   "outputs": [],
   "source": []
  }
 ],
 "metadata": {
  "kernelspec": {
   "display_name": "Python 3",
   "language": "python",
   "name": "python3"
  },
  "language_info": {
   "codemirror_mode": {
    "name": "ipython",
    "version": 3
   },
   "file_extension": ".py",
   "mimetype": "text/x-python",
   "name": "python",
   "nbconvert_exporter": "python",
   "pygments_lexer": "ipython3",
   "version": "3.6.6"
  }
 },
 "nbformat": 4,
 "nbformat_minor": 2
}
